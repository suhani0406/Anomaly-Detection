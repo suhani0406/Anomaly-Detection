{
  "nbformat": 4,
  "nbformat_minor": 0,
  "metadata": {
    "colab": {
      "name": "Untitled2.ipynb",
      "provenance": [],
      "toc_visible": true,
      "mount_file_id": "1whMBxzs9DX49JYQff4kP3vvgAYkWXfvE",
      "authorship_tag": "ABX9TyOAw+Fwhpe3aN1KHFt7NzUm"
    },
    "kernelspec": {
      "name": "python3",
      "display_name": "Python 3"
    }
  },
  "cells": [
    {
      "cell_type": "code",
      "metadata": {
        "id": "Zzqw7r1fhgBz",
        "colab_type": "code",
        "colab": {}
      },
      "source": [
        "#installing hdf5storage\n",
        "!pip install hdf5storage"
      ],
      "execution_count": 0,
      "outputs": []
    },
    {
      "cell_type": "code",
      "metadata": {
        "id": "5d-KcNpWjh7c",
        "colab_type": "code",
        "colab": {}
      },
      "source": [
        "# importing libraries\n",
        "import hdf5storage\n",
        "import numpy as np\n",
        "from sklearn.ensemble import IsolationForest\n",
        "import matplotlib.pyplot as plt\n",
        "import pandas as pd\n",
        "from sklearn.model_selection import train_test_split\n",
        "from sklearn.metrics import confusion_matrix,f1_score,roc_auc_score,classification_report,roc_curve,auc"
      ],
      "execution_count": 0,
      "outputs": []
    },
    {
      "cell_type": "code",
      "metadata": {
        "id": "IQSchIvtjpqr",
        "colab_type": "code",
        "colab": {}
      },
      "source": [
        "# getting dataset anomaly.mat\n",
        "file='anomaly.mat'\n",
        "mat=hdf5storage.loadmat(file)"
      ],
      "execution_count": 0,
      "outputs": []
    },
    {
      "cell_type": "code",
      "metadata": {
        "id": "c8JUmLbzkK3h",
        "colab_type": "code",
        "colab": {}
      },
      "source": [
        "# separating input and output data in pandas dataframe\n",
        "X=pd.DataFrame(mat['X'])\n",
        "y=pd.DataFrame(mat['y'])"
      ],
      "execution_count": 0,
      "outputs": []
    },
    {
      "cell_type": "code",
      "metadata": {
        "id": "tt_f6iYNkWX6",
        "colab_type": "code",
        "colab": {
          "base_uri": "https://localhost:8080/",
          "height": 195
        },
        "outputId": "cb5befc6-5935-4271-a532-67278cb94191"
      },
      "source": [
        "# analysing the data\n",
        "X[:5]"
      ],
      "execution_count": 5,
      "outputs": [
        {
          "output_type": "execute_result",
          "data": {
            "text/html": [
              "<div>\n",
              "<style scoped>\n",
              "    .dataframe tbody tr th:only-of-type {\n",
              "        vertical-align: middle;\n",
              "    }\n",
              "\n",
              "    .dataframe tbody tr th {\n",
              "        vertical-align: top;\n",
              "    }\n",
              "\n",
              "    .dataframe thead th {\n",
              "        text-align: right;\n",
              "    }\n",
              "</style>\n",
              "<table border=\"1\" class=\"dataframe\">\n",
              "  <thead>\n",
              "    <tr style=\"text-align: right;\">\n",
              "      <th></th>\n",
              "      <th>0</th>\n",
              "      <th>1</th>\n",
              "      <th>2</th>\n",
              "    </tr>\n",
              "  </thead>\n",
              "  <tbody>\n",
              "    <tr>\n",
              "      <th>0</th>\n",
              "      <td>-2.302585</td>\n",
              "      <td>5.371103</td>\n",
              "      <td>10.716107</td>\n",
              "    </tr>\n",
              "    <tr>\n",
              "      <th>1</th>\n",
              "      <td>-2.302585</td>\n",
              "      <td>5.088213</td>\n",
              "      <td>8.418058</td>\n",
              "    </tr>\n",
              "    <tr>\n",
              "      <th>2</th>\n",
              "      <td>-2.302585</td>\n",
              "      <td>5.464255</td>\n",
              "      <td>7.113224</td>\n",
              "    </tr>\n",
              "    <tr>\n",
              "      <th>3</th>\n",
              "      <td>-2.302585</td>\n",
              "      <td>5.451468</td>\n",
              "      <td>7.616825</td>\n",
              "    </tr>\n",
              "    <tr>\n",
              "      <th>4</th>\n",
              "      <td>-2.302585</td>\n",
              "      <td>5.476882</td>\n",
              "      <td>6.186414</td>\n",
              "    </tr>\n",
              "  </tbody>\n",
              "</table>\n",
              "</div>"
            ],
            "text/plain": [
              "          0         1          2\n",
              "0 -2.302585  5.371103  10.716107\n",
              "1 -2.302585  5.088213   8.418058\n",
              "2 -2.302585  5.464255   7.113224\n",
              "3 -2.302585  5.451468   7.616825\n",
              "4 -2.302585  5.476882   6.186414"
            ]
          },
          "metadata": {
            "tags": []
          },
          "execution_count": 5
        }
      ]
    },
    {
      "cell_type": "code",
      "metadata": {
        "id": "VzgRe74rkkYm",
        "colab_type": "code",
        "colab": {
          "base_uri": "https://localhost:8080/",
          "height": 195
        },
        "outputId": "58d61775-7af9-4163-bdff-362d3fd3bc00"
      },
      "source": [
        "y[:5]"
      ],
      "execution_count": 6,
      "outputs": [
        {
          "output_type": "execute_result",
          "data": {
            "text/html": [
              "<div>\n",
              "<style scoped>\n",
              "    .dataframe tbody tr th:only-of-type {\n",
              "        vertical-align: middle;\n",
              "    }\n",
              "\n",
              "    .dataframe tbody tr th {\n",
              "        vertical-align: top;\n",
              "    }\n",
              "\n",
              "    .dataframe thead th {\n",
              "        text-align: right;\n",
              "    }\n",
              "</style>\n",
              "<table border=\"1\" class=\"dataframe\">\n",
              "  <thead>\n",
              "    <tr style=\"text-align: right;\">\n",
              "      <th></th>\n",
              "      <th>0</th>\n",
              "    </tr>\n",
              "  </thead>\n",
              "  <tbody>\n",
              "    <tr>\n",
              "      <th>0</th>\n",
              "      <td>0.0</td>\n",
              "    </tr>\n",
              "    <tr>\n",
              "      <th>1</th>\n",
              "      <td>0.0</td>\n",
              "    </tr>\n",
              "    <tr>\n",
              "      <th>2</th>\n",
              "      <td>0.0</td>\n",
              "    </tr>\n",
              "    <tr>\n",
              "      <th>3</th>\n",
              "      <td>0.0</td>\n",
              "    </tr>\n",
              "    <tr>\n",
              "      <th>4</th>\n",
              "      <td>0.0</td>\n",
              "    </tr>\n",
              "  </tbody>\n",
              "</table>\n",
              "</div>"
            ],
            "text/plain": [
              "     0\n",
              "0  0.0\n",
              "1  0.0\n",
              "2  0.0\n",
              "3  0.0\n",
              "4  0.0"
            ]
          },
          "metadata": {
            "tags": []
          },
          "execution_count": 6
        }
      ]
    },
    {
      "cell_type": "code",
      "metadata": {
        "id": "GN-NUaMTkmfp",
        "colab_type": "code",
        "colab": {
          "base_uri": "https://localhost:8080/",
          "height": 284
        },
        "outputId": "5cd7d96e-f530-4324-883b-72b09c86dbe3"
      },
      "source": [
        "X.describe()"
      ],
      "execution_count": 7,
      "outputs": [
        {
          "output_type": "execute_result",
          "data": {
            "text/html": [
              "<div>\n",
              "<style scoped>\n",
              "    .dataframe tbody tr th:only-of-type {\n",
              "        vertical-align: middle;\n",
              "    }\n",
              "\n",
              "    .dataframe tbody tr th {\n",
              "        vertical-align: top;\n",
              "    }\n",
              "\n",
              "    .dataframe thead th {\n",
              "        text-align: right;\n",
              "    }\n",
              "</style>\n",
              "<table border=\"1\" class=\"dataframe\">\n",
              "  <thead>\n",
              "    <tr style=\"text-align: right;\">\n",
              "      <th></th>\n",
              "      <th>0</th>\n",
              "      <th>1</th>\n",
              "      <th>2</th>\n",
              "    </tr>\n",
              "  </thead>\n",
              "  <tbody>\n",
              "    <tr>\n",
              "      <th>count</th>\n",
              "      <td>567498.000000</td>\n",
              "      <td>567498.000000</td>\n",
              "      <td>567498.000000</td>\n",
              "    </tr>\n",
              "    <tr>\n",
              "      <th>mean</th>\n",
              "      <td>-2.268538</td>\n",
              "      <td>5.557679</td>\n",
              "      <td>7.489226</td>\n",
              "    </tr>\n",
              "    <tr>\n",
              "      <th>std</th>\n",
              "      <td>0.465346</td>\n",
              "      <td>0.435007</td>\n",
              "      <td>1.316983</td>\n",
              "    </tr>\n",
              "    <tr>\n",
              "      <th>min</th>\n",
              "      <td>-2.302585</td>\n",
              "      <td>-2.302585</td>\n",
              "      <td>-2.302585</td>\n",
              "    </tr>\n",
              "    <tr>\n",
              "      <th>25%</th>\n",
              "      <td>-2.302585</td>\n",
              "      <td>5.380358</td>\n",
              "      <td>6.490875</td>\n",
              "    </tr>\n",
              "    <tr>\n",
              "      <th>50%</th>\n",
              "      <td>-2.302585</td>\n",
              "      <td>5.517854</td>\n",
              "      <td>7.415235</td>\n",
              "    </tr>\n",
              "    <tr>\n",
              "      <th>75%</th>\n",
              "      <td>-2.302585</td>\n",
              "      <td>5.723912</td>\n",
              "      <td>8.372884</td>\n",
              "    </tr>\n",
              "    <tr>\n",
              "      <th>max</th>\n",
              "      <td>8.098369</td>\n",
              "      <td>10.906691</td>\n",
              "      <td>16.277711</td>\n",
              "    </tr>\n",
              "  </tbody>\n",
              "</table>\n",
              "</div>"
            ],
            "text/plain": [
              "                   0              1              2\n",
              "count  567498.000000  567498.000000  567498.000000\n",
              "mean       -2.268538       5.557679       7.489226\n",
              "std         0.465346       0.435007       1.316983\n",
              "min        -2.302585      -2.302585      -2.302585\n",
              "25%        -2.302585       5.380358       6.490875\n",
              "50%        -2.302585       5.517854       7.415235\n",
              "75%        -2.302585       5.723912       8.372884\n",
              "max         8.098369      10.906691      16.277711"
            ]
          },
          "metadata": {
            "tags": []
          },
          "execution_count": 7
        }
      ]
    },
    {
      "cell_type": "code",
      "metadata": {
        "id": "T89RWoIKktFx",
        "colab_type": "code",
        "colab": {
          "base_uri": "https://localhost:8080/",
          "height": 284
        },
        "outputId": "a9fd463d-d050-4046-d42d-10ffea660988"
      },
      "source": [
        "y.describe()"
      ],
      "execution_count": 8,
      "outputs": [
        {
          "output_type": "execute_result",
          "data": {
            "text/html": [
              "<div>\n",
              "<style scoped>\n",
              "    .dataframe tbody tr th:only-of-type {\n",
              "        vertical-align: middle;\n",
              "    }\n",
              "\n",
              "    .dataframe tbody tr th {\n",
              "        vertical-align: top;\n",
              "    }\n",
              "\n",
              "    .dataframe thead th {\n",
              "        text-align: right;\n",
              "    }\n",
              "</style>\n",
              "<table border=\"1\" class=\"dataframe\">\n",
              "  <thead>\n",
              "    <tr style=\"text-align: right;\">\n",
              "      <th></th>\n",
              "      <th>0</th>\n",
              "    </tr>\n",
              "  </thead>\n",
              "  <tbody>\n",
              "    <tr>\n",
              "      <th>count</th>\n",
              "      <td>567498.000000</td>\n",
              "    </tr>\n",
              "    <tr>\n",
              "      <th>mean</th>\n",
              "      <td>0.003896</td>\n",
              "    </tr>\n",
              "    <tr>\n",
              "      <th>std</th>\n",
              "      <td>0.062297</td>\n",
              "    </tr>\n",
              "    <tr>\n",
              "      <th>min</th>\n",
              "      <td>0.000000</td>\n",
              "    </tr>\n",
              "    <tr>\n",
              "      <th>25%</th>\n",
              "      <td>0.000000</td>\n",
              "    </tr>\n",
              "    <tr>\n",
              "      <th>50%</th>\n",
              "      <td>0.000000</td>\n",
              "    </tr>\n",
              "    <tr>\n",
              "      <th>75%</th>\n",
              "      <td>0.000000</td>\n",
              "    </tr>\n",
              "    <tr>\n",
              "      <th>max</th>\n",
              "      <td>1.000000</td>\n",
              "    </tr>\n",
              "  </tbody>\n",
              "</table>\n",
              "</div>"
            ],
            "text/plain": [
              "                   0\n",
              "count  567498.000000\n",
              "mean        0.003896\n",
              "std         0.062297\n",
              "min         0.000000\n",
              "25%         0.000000\n",
              "50%         0.000000\n",
              "75%         0.000000\n",
              "max         1.000000"
            ]
          },
          "metadata": {
            "tags": []
          },
          "execution_count": 8
        }
      ]
    },
    {
      "cell_type": "code",
      "metadata": {
        "id": "aYhVPMyWkvOm",
        "colab_type": "code",
        "colab": {}
      },
      "source": [
        "# splitting dataset into test and train data..with test size 0.25\n",
        "X_train,X_test,y_train,y_test=train_test_split(X,y,test_size=0.25)"
      ],
      "execution_count": 0,
      "outputs": []
    },
    {
      "cell_type": "code",
      "metadata": {
        "id": "H5vvTrBvlOlk",
        "colab_type": "code",
        "colab": {
          "base_uri": "https://localhost:8080/",
          "height": 70
        },
        "outputId": "496d7b1c-734b-4dbd-c2b9-172eeb21437e"
      },
      "source": [
        "# training data with IForest Algorithm with contamination of 0.004(as mentioned in pdf),sub-sampling size=256 and number of estimators=100\n",
        "ifor=IsolationForest(n_estimators=100,max_samples=256,contamination=0.004)\n",
        "ifor.fit(X_train)"
      ],
      "execution_count": 10,
      "outputs": [
        {
          "output_type": "execute_result",
          "data": {
            "text/plain": [
              "IsolationForest(behaviour='deprecated', bootstrap=False, contamination=0.004,\n",
              "                max_features=1.0, max_samples=256, n_estimators=100,\n",
              "                n_jobs=None, random_state=None, verbose=0, warm_start=False)"
            ]
          },
          "metadata": {
            "tags": []
          },
          "execution_count": 10
        }
      ]
    },
    {
      "cell_type": "code",
      "metadata": {
        "id": "amzQuLWCl8fT",
        "colab_type": "code",
        "colab": {}
      },
      "source": [
        "# defining a convert function to convert the output from {-1,1} to {0,1}\n",
        "def convert(y):\n",
        "    for i in range(y.shape[0]):\n",
        "        if y[i]==-1:\n",
        "            y[i]=1\n",
        "        else:\n",
        "            y[i]=0\n",
        "    return y"
      ],
      "execution_count": 0,
      "outputs": []
    },
    {
      "cell_type": "code",
      "metadata": {
        "id": "-lFj-qR8mhjL",
        "colab_type": "code",
        "colab": {}
      },
      "source": [
        "# predicting model on test data and converting it to desired output range\n",
        "y_pred=ifor.predict(X_test)\n",
        "y_pred=convert(y_pred)"
      ],
      "execution_count": 0,
      "outputs": []
    },
    {
      "cell_type": "code",
      "metadata": {
        "id": "mw91pCkfm9Xp",
        "colab_type": "code",
        "colab": {}
      },
      "source": [
        "# anomaly score calculation on test data..0.5 added to put the scores in the range [0,1]\n",
        "s=0.5-ifor.decision_function(X_test)"
      ],
      "execution_count": 0,
      "outputs": []
    },
    {
      "cell_type": "code",
      "metadata": {
        "id": "p-kRPfThnwXV",
        "colab_type": "code",
        "colab": {}
      },
      "source": [
        "# calculating area under the curve for Receiver Operating Characteristics curve\n",
        "z=roc_auc_score(y_test,s )"
      ],
      "execution_count": 0,
      "outputs": []
    },
    {
      "cell_type": "code",
      "metadata": {
        "id": "VowoEjBYoLg-",
        "colab_type": "code",
        "colab": {}
      },
      "source": [
        "# calculating FPR(False Positive Rate),TPR(True Positive Rate) and threshold value for Receiver Operating Characteristics curve\n",
        "fpr,tpr,threshold=roc_curve(y_test,s)"
      ],
      "execution_count": 0,
      "outputs": []
    },
    {
      "cell_type": "code",
      "metadata": {
        "id": "5VDvlzbJowOD",
        "colab_type": "code",
        "colab": {
          "base_uri": "https://localhost:8080/",
          "height": 70
        },
        "outputId": "92cc6094-2718-4c32-f0da-928f5dd67bba"
      },
      "source": [
        "print('False Positive Rate:',fpr)\n",
        "print('True Positive Rate:',tpr)\n",
        "print('Threshold:',threshold)"
      ],
      "execution_count": 16,
      "outputs": [
        {
          "output_type": "stream",
          "text": [
            "False Positive Rate: [0.         0.         0.         ... 0.99994339 0.99995754 1.        ]\n",
            "True Positive Rate: [0.         0.00530035 0.00706714 ... 1.         1.         1.        ]\n",
            "Threshold Value: [1.56363212 0.56363212 0.56202861 ... 0.15179957 0.15171015 0.15162172]\n"
          ],
          "name": "stdout"
        }
      ]
    },
    {
      "cell_type": "code",
      "metadata": {
        "id": "YNbgT95Ysjfd",
        "colab_type": "code",
        "colab": {
          "base_uri": "https://localhost:8080/",
          "height": 281
        },
        "outputId": "291f8bc5-ea05-43d6-a5e6-e6eae714508b"
      },
      "source": [
        "# statistical analysis\n",
        "print('Report: ')\n",
        "print('classification report: ')\n",
        "print(classification_report(y_test,y_pred))\n",
        "print('AUC_ROC:',z)\n",
        "print('F1-Score: ',f1_score(y_test,y_pred))\n",
        "print('confusion-matrix: ',confusion_matrix(y_test,y_pred))"
      ],
      "execution_count": 24,
      "outputs": [
        {
          "output_type": "stream",
          "text": [
            "Report: \n",
            "classification report: \n",
            "              precision    recall  f1-score   support\n",
            "\n",
            "         0.0       1.00      1.00      1.00    141309\n",
            "         1.0       0.96      0.99      0.97       566\n",
            "\n",
            "    accuracy                           1.00    141875\n",
            "   macro avg       0.98      0.99      0.99    141875\n",
            "weighted avg       1.00      1.00      1.00    141875\n",
            "\n",
            "AUC_ROC: 0.9998627297164245\n",
            "F1-Score:  0.974716652136007\n",
            "confusion-matrix:  [[141287     22]\n",
            " [     7    559]]\n"
          ],
          "name": "stdout"
        }
      ]
    },
    {
      "cell_type": "code",
      "metadata": {
        "id": "QI3ATuodtOzJ",
        "colab_type": "code",
        "colab": {
          "base_uri": "https://localhost:8080/",
          "height": 295
        },
        "outputId": "ecf8257a-7242-48db-bc4c-4d80b1c77bde"
      },
      "source": [
        "# visulization\n",
        "plt.title('Receiver Operating Characteristics')\n",
        "plt.plot(fpr,tpr,'b',label='AUC= %0.6f'%z)\n",
        "plt.legend(loc='lower right')\n",
        "plt.plot([0,1],[0,1],'r--')\n",
        "plt.xlim([0,1])\n",
        "plt.ylim([0,1])\n",
        "plt.ylabel('True Positive Rate')\n",
        "plt.xlabel('False Positive Rate')\n",
        "plt.show()"
      ],
      "execution_count": 26,
      "outputs": [
        {
          "output_type": "display_data",
          "data": {
            "image/png": "[encoded data removed]",
            "text/plain": [
              "<Figure size 432x288 with 1 Axes>"
            ]
          },
          "metadata": {
            "tags": []
          }
        }
      ]
    },
    {
      "cell_type": "code",
      "metadata": {
        "id": "khKllZw7tua4",
        "colab_type": "code",
        "colab": {
          "base_uri": "https://localhost:8080/",
          "height": 282
        },
        "outputId": "0eebd8ff-8aab-4610-8153-03199f222976"
      },
      "source": [
        "# plot between the computed anomaly scores and it's actual output value(y_test)\n",
        "plt.scatter(s,y_test,color='blue',marker='*')"
      ],
      "execution_count": 27,
      "outputs": [
        {
          "output_type": "execute_result",
          "data": {
            "text/plain": [
              "<matplotlib.collections.PathCollection at 0x7f32ec5f6240>"
            ]
          },
          "metadata": {
            "tags": []
          },
          "execution_count": 27
        },
        {
          "output_type": "display_data",
          "data": {
            "image/png": "[encoded data removed]",
            "text/plain": [
              "<Figure size 432x288 with 1 Axes>"
            ]
          },
          "metadata": {
            "tags": []
          }
        }
      ]
    },
    {
      "cell_type": "code",
      "metadata": {
        "id": "3rMeT3s1u0fd",
        "colab_type": "code",
        "colab": {
          "base_uri": "https://localhost:8080/",
          "height": 282
        },
        "outputId": "bcd67b48-8f14-4e48-aa9f-dc36bca10878"
      },
      "source": [
        "# plot between the computed anomaly scores and it's actual output value(y_pred)\n",
        "plt.scatter(s,y_pred,color='blue',marker='*')"
      ],
      "execution_count": 29,
      "outputs": [
        {
          "output_type": "execute_result",
          "data": {
            "text/plain": [
              "<matplotlib.collections.PathCollection at 0x7f32e9d2bac8>"
            ]
          },
          "metadata": {
            "tags": []
          },
          "execution_count": 29
        },
        {
          "output_type": "display_data",
          "data": {
            "image/png": "[encoded data removed]",
            "text/plain": [
              "<Figure size 432x288 with 1 Axes>"
            ]
          },
          "metadata": {
            "tags": []
          }
        }
      ]
    }
  ]
}